{
  "nbformat": 4,
  "nbformat_minor": 0,
  "metadata": {
    "colab": {
      "provenance": []
    },
    "kernelspec": {
      "name": "python3",
      "display_name": "Python 3"
    },
    "language_info": {
      "name": "python"
    }
  },
  "cells": [
    {
      "cell_type": "markdown",
      "source": [
        "#Python101"
      ],
      "metadata": {
        "id": "-cAjpRvwtqZ7"
      }
    },
    {
      "cell_type": "code",
      "execution_count": 1,
      "metadata": {
        "colab": {
          "base_uri": "https://localhost:8080/"
        },
        "id": "oFQiqx-qJnvr",
        "outputId": "d236bc23-09f3-4f7b-8dff-27c249d99395"
      },
      "outputs": [
        {
          "output_type": "execute_result",
          "data": {
            "text/plain": [
              "129129938167664848157333145589394151932880352885953011"
            ]
          },
          "metadata": {},
          "execution_count": 1
        }
      ],
      "source": [
        "#11的51次方\n",
        "11**51"
      ]
    },
    {
      "cell_type": "code",
      "source": [
        "#FOR your summation #NA\n",
        "sum = 0\n",
        "for i in range(1,7):\n",
        "    for j in range(1,7):\n",
        "        for k in range(1,7):\n",
        "            if (i != j and i!= k and j!=k):\n",
        "                #print(f\"{i}{j}{k}\")\n",
        "                sum = i*100+j*10+k + sum\n",
        "print(sum)"
      ],
      "metadata": {
        "colab": {
          "base_uri": "https://localhost:8080/"
        },
        "id": "qOjna7D1Xhnc",
        "outputId": "5477f3d9-fe49-4e53-da02-f13db002c235"
      },
      "execution_count": 14,
      "outputs": [
        {
          "output_type": "stream",
          "name": "stdout",
          "text": [
            "46620\n"
          ]
        }
      ]
    },
    {
      "cell_type": "code",
      "source": [
        "#IF 潤年\n",
        "'''\n",
        "如果除以 4 能整除\n",
        "如果除以 100 能整除\n",
        "如果除以 400 能整除，就是閏年\n",
        "'''\n",
        "year = int(input())             \n",
        "if(year%4 == 0):                   \n",
        "    if(year%100 == 0):              \n",
        "        if(year%400 == 0):          \n",
        "            print(f'{year}閏')\n",
        "        else:\n",
        "            print(f'{year}平')\n",
        "    else:\n",
        "      print(f'{year}閏')\n",
        "else:\n",
        "    print(f'{year}平')"
      ],
      "metadata": {
        "colab": {
          "base_uri": "https://localhost:8080/"
        },
        "id": "VNAJ1l_JXpUs",
        "outputId": "e929fada-9979-4ac1-91eb-040cb582d642"
      },
      "execution_count": 13,
      "outputs": [
        {
          "output_type": "stream",
          "name": "stdout",
          "text": [
            "2000\n",
            "2000閏\n"
          ]
        }
      ]
    },
    {
      "cell_type": "code",
      "source": [
        "#IF幸福企業的獎金制度\n",
        "'''\n",
        "當利潤(I)低於或等於100萬元時，獎金可提10%；\n",
        "(2)利潤高於100萬元，低於200萬元時，低於100萬元的部分按10%提成，高於100萬元的部分，可提成7%;\n",
        "(3)200萬到400萬之間時，高於200萬元的部分，可提成5%；\n",
        "(4)400萬到600萬之間時高於400萬元的部分，可提成4%；\n",
        "(5)600萬到1000萬之間時，高於600萬元的部分，可提成2%;\n",
        "(5)1000萬 以上時，高於1000萬元的部分，可提成1%。\n",
        "'''\n",
        "m = int(input())\n",
        "sum = 0\n",
        "if(m<=1000000):\n",
        "    sum = m*0.1\n",
        "if(m>1000000):\n",
        "    sum = (m-1000000)*0.07 + 1000000*0.1\n",
        "if(m>=2000000):\n",
        "    sum = (m-2000000)*0.05 + 1000000*0.07 + 1000000*0.1\n",
        "if(m>=4000000):\n",
        "    sum = (m-4000000)*0.04 + 2000000*0.05 + 1000000*0.07 + 1000000*0.1\n",
        "if(m>=6000000):\n",
        "    sum = (m-6000000)*0.02 + 4000000*0.04 + 2000000*0.05 + 1000000*0.07 + 1000000*0.1\n",
        "if(m>=10000000):\n",
        "    sum = (m-10000000)*0.01 + 6000000*0.02 + 4000000*0.04 + 2000000*0.05 + 1000000*0.07 + 1000000*0.1\n",
        "print(sum)"
      ],
      "metadata": {
        "colab": {
          "base_uri": "https://localhost:8080/"
        },
        "id": "lDcpBUxZYaDg",
        "outputId": "f40f5a2a-60ec-41b6-e75c-c9ec5f02def8"
      },
      "execution_count": 9,
      "outputs": [
        {
          "output_type": "stream",
          "name": "stdout",
          "text": [
            "2245678\n",
            "182283.9\n"
          ]
        }
      ]
    },
    {
      "cell_type": "code",
      "source": [
        "#費氏數列\n",
        "def f(n):                     \n",
        "  if n > 1:  \n",
        "    return f(n-1) + f(n-2)\n",
        "  return n\n",
        "\n",
        "n=int(input())\n",
        "for i in range(n+1):    \n",
        "    print(f(i),end=\" \")"
      ],
      "metadata": {
        "colab": {
          "base_uri": "https://localhost:8080/"
        },
        "id": "SHKOi6VYYWax",
        "outputId": "7941fa14-7eae-40d8-efb2-2e9d82a7999c"
      },
      "execution_count": 6,
      "outputs": [
        {
          "output_type": "stream",
          "name": "stdout",
          "text": [
            "41\n",
            "0 1 1 2 3 5 8 13 21 34 55 89 144 233 377 610 987 1597 2584 4181 6765 10946 17711 28657 46368 75025 121393 196418 317811 514229 832040 1346269 2178309 3524578 5702887 9227465 14930352 24157817 39088169 63245986 102334155 165580141 "
          ]
        }
      ]
    },
    {
      "cell_type": "code",
      "source": [
        "#函數的虛擬碼實作\n",
        "def XXX(m,n):\n",
        "    while (m != 0):\n",
        "        if (n == 0):\n",
        "             n = 1\n",
        "        else:\n",
        "             n = XXX(m, n-1)\n",
        "        \n",
        "        m = m - 1\n",
        "    return n+1\n",
        "\n",
        "m,n = map(int,input().split())\n",
        "print(XXX(m,n))"
      ],
      "metadata": {
        "id": "8mmpOtyqYgtt"
      },
      "execution_count": null,
      "outputs": []
    },
    {
      "cell_type": "markdown",
      "source": [
        "#乘法表"
      ],
      "metadata": {
        "id": "Qf1gHAnXtjXd"
      }
    },
    {
      "cell_type": "code",
      "source": [
        "#九九乘法表\n",
        "for i in range(1,10):\n",
        "    for j in range(1,10):\n",
        "        print(f'{i}*{j}={i*j:2}',end=\" \")\n",
        "    print(\"\")"
      ],
      "metadata": {
        "colab": {
          "base_uri": "https://localhost:8080/"
        },
        "id": "nHWkh3vQtuuk",
        "outputId": "0220a491-3a13-49f2-ee36-f1c496228f24"
      },
      "execution_count": 11,
      "outputs": [
        {
          "output_type": "stream",
          "name": "stdout",
          "text": [
            "1*1= 1 1*2= 2 1*3= 3 1*4= 4 1*5= 5 1*6= 6 1*7= 7 1*8= 8 1*9= 9 \n",
            "2*1= 2 2*2= 4 2*3= 6 2*4= 8 2*5=10 2*6=12 2*7=14 2*8=16 2*9=18 \n",
            "3*1= 3 3*2= 6 3*3= 9 3*4=12 3*5=15 3*6=18 3*7=21 3*8=24 3*9=27 \n",
            "4*1= 4 4*2= 8 4*3=12 4*4=16 4*5=20 4*6=24 4*7=28 4*8=32 4*9=36 \n",
            "5*1= 5 5*2=10 5*3=15 5*4=20 5*5=25 5*6=30 5*7=35 5*8=40 5*9=45 \n",
            "6*1= 6 6*2=12 6*3=18 6*4=24 6*5=30 6*6=36 6*7=42 6*8=48 6*9=54 \n",
            "7*1= 7 7*2=14 7*3=21 7*4=28 7*5=35 7*6=42 7*7=49 7*8=56 7*9=63 \n",
            "8*1= 8 8*2=16 8*3=24 8*4=32 8*5=40 8*6=48 8*7=56 8*8=64 8*9=72 \n",
            "9*1= 9 9*2=18 9*3=27 9*4=36 9*5=45 9*6=54 9*7=63 9*8=72 9*9=81 \n"
          ]
        }
      ]
    },
    {
      "cell_type": "code",
      "source": [
        "#1到N乘法表\n",
        "n=int(input())\n",
        "for i in range(1,n+1):\n",
        "    for j in range(1,10):\n",
        "        print(f'{i}*{j}={i*j}')"
      ],
      "metadata": {
        "id": "Ce_nxG5Etxh-"
      },
      "execution_count": null,
      "outputs": []
    },
    {
      "cell_type": "code",
      "source": [
        "#N到9乘法表\n",
        "n=int(input())\n",
        "for i in range(n,10):\n",
        "    for j in range(1,10):\n",
        "        print(f'{i}*{j}={i*j}')"
      ],
      "metadata": {
        "id": "K_u_ol7ytzvx"
      },
      "execution_count": null,
      "outputs": []
    }
  ]
}