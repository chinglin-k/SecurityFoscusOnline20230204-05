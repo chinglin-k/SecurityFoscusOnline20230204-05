{
  "nbformat": 4,
  "nbformat_minor": 0,
  "metadata": {
    "colab": {
      "provenance": []
    },
    "kernelspec": {
      "name": "python3",
      "display_name": "Python 3"
    },
    "language_info": {
      "name": "python"
    }
  },
  "cells": [
    {
      "cell_type": "code",
      "execution_count": 1,
      "metadata": {
        "colab": {
          "base_uri": "https://localhost:8080/"
        },
        "id": "oFQiqx-qJnvr",
        "outputId": "d236bc23-09f3-4f7b-8dff-27c249d99395"
      },
      "outputs": [
        {
          "output_type": "execute_result",
          "data": {
            "text/plain": [
              "129129938167664848157333145589394151932880352885953011"
            ]
          },
          "metadata": {},
          "execution_count": 1
        }
      ],
      "source": [
        "#11的51次方\n",
        "11**51"
      ]
    },
    {
      "cell_type": "code",
      "source": [
        "#FOR your summation #NA\n",
        "sum = 0\n",
        "for i in range(1,7):\n",
        "    for j in range(1,7):\n",
        "        for k in range(1,7):\n",
        "            if (i != j and i!= k and j!=k):\n",
        "                #print(f\"{i}{j}{k}\")\n",
        "                sum = i*100+j*10+k + sum\n",
        "print(sum)"
      ],
      "metadata": {
        "colab": {
          "base_uri": "https://localhost:8080/"
        },
        "id": "qOjna7D1Xhnc",
        "outputId": "d9a76e28-6bd6-484b-f25c-0b29a28cab00"
      },
      "execution_count": 2,
      "outputs": [
        {
          "output_type": "stream",
          "name": "stdout",
          "text": [
            "46620\n"
          ]
        }
      ]
    },
    {
      "cell_type": "code",
      "source": [
        "#IF 潤年\n",
        "'''\n",
        "如果除以 4 能整除\n",
        "如果除以 100 能整除\n",
        "如果除以 400 能整除，就是閏年\n",
        "'''\n",
        "year = int(input())             \n",
        "if(year%4 == 0):                   \n",
        "    if(year%100 == 0):              \n",
        "        if(year%400 == 0):          \n",
        "            print(f'{year}閏')\n",
        "        else:\n",
        "            print(f'{year}平')\n",
        "    else:\n",
        "      print(f'{year}閏')\n",
        "else:\n",
        "    print(f'{year}平')"
      ],
      "metadata": {
        "id": "VNAJ1l_JXpUs"
      },
      "execution_count": null,
      "outputs": []
    },
    {
      "cell_type": "code",
      "source": [
        "#IF幸福企業的獎金制度 #NA\n",
        "'''\n",
        "當利潤(I)低於或等於100萬元時，獎金可提10%；\n",
        "(2)利潤高於100萬元，低於200萬元時，低於100萬元的部分按10%提成，高於100萬元的部分，可提成7%；\n",
        "(3)200萬到400萬之間時，高於200萬元的部分，可提成5%；\n",
        "(4)400萬到600萬之間時高於400萬元的部分，可提成4%；\n",
        "(5)600萬到1000萬之間時，高於600萬元的部分，可提成2%;\n",
        "(5)1000萬 以上時，高於1000萬元的部分，可提成1%。\n",
        "'''\n",
        "m = int(input())\n",
        "sum = 0\n",
        "if(m<=1000000):\n",
        "    sum = m*0.1\n",
        "elif(m>1000000 and m<2000000):\n",
        "    sum = (m-1000000)*0.07+1000000*0.1\n",
        "elif(m>=2000000 and m<4000000):\n",
        "    sum = (m-2000000)*0.05\n",
        "elif(m>=4000000 and m<6000000):\n",
        "    sum = (m-4000000)*0.04\n",
        "elif(m>=6000000 and m<10000000):\n",
        "    sum = (m-6000000)*0.02\n",
        "else:\n",
        "    sum = (m-10000000)*0.01\n",
        "print(sum)"
      ],
      "metadata": {
        "colab": {
          "base_uri": "https://localhost:8080/"
        },
        "id": "lDcpBUxZYaDg",
        "outputId": "8f5f1bdf-994e-41ca-a2dd-7cab622a0793"
      },
      "execution_count": 4,
      "outputs": [
        {
          "output_type": "stream",
          "name": "stdout",
          "text": [
            "2245678\n",
            "12283.900000000001\n"
          ]
        }
      ]
    },
    {
      "cell_type": "code",
      "source": [
        "#費氏數列\n",
        "def f(n):                     \n",
        "  if n > 1:  \n",
        "    return f(n-1) + f(n-2)\n",
        "  return n\n",
        "\n",
        "n=int(input())\n",
        "for i in range(n+1):    \n",
        "    print(f(i),end=\" \")"
      ],
      "metadata": {
        "id": "SHKOi6VYYWax"
      },
      "execution_count": null,
      "outputs": []
    },
    {
      "cell_type": "code",
      "source": [
        "#函數的虛擬碼實作\n",
        "def XXX(m,n):\n",
        "    while (m != 0):\n",
        "        if (n == 0):\n",
        "             n = 1\n",
        "        else:\n",
        "             n = XXX(m, n-1)\n",
        "        \n",
        "        m = m - 1\n",
        "    return n+1\n",
        "\n",
        "m,n = map(int,input().split())\n",
        "print(XXX(m,n))"
      ],
      "metadata": {
        "id": "8mmpOtyqYgtt"
      },
      "execution_count": null,
      "outputs": []
    }
  ]
}
